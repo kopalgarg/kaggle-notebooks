{
  "nbformat": 4,
  "nbformat_minor": 0,
  "metadata": {
    "colab": {
      "name": "Untitled6.ipynb",
      "provenance": [],
      "authorship_tag": "ABX9TyMFez7FgZWBKNlnc4BiteyR",
      "include_colab_link": true
    },
    "kernelspec": {
      "name": "python3",
      "display_name": "Python 3"
    },
    "language_info": {
      "name": "python"
    }
  },
  "cells": [
    {
      "cell_type": "markdown",
      "metadata": {
        "id": "view-in-github",
        "colab_type": "text"
      },
      "source": [
        "<a href=\"https://colab.research.google.com/github/kopalgarg/kaggle-competitions/blob/main/boston-housing-CAPTUM/gradient_based_explainability_CAPTUM.ipynb\" target=\"_parent\"><img src=\"https://colab.research.google.com/assets/colab-badge.svg\" alt=\"Open In Colab\"/></a>"
      ]
    },
    {
      "cell_type": "code",
      "metadata": {
        "id": "EdvPqwv5nZeh"
      },
      "source": [
        "import numpy as np\n",
        "import pandas as pd\n",
        "import matplotlib.pyplot as plt\n",
        "import sklearn\n",
        "from sklearn.datasets import load_boston\n",
        "from sklearn.model_selection import train_test_split\n",
        "from sklearn.metrics import mean_squared_error\n",
        "import torch\n",
        "import torch.nn as nn\n",
        "import torch.optim as optim\n",
        "import torchviz\n",
        "import captum\n",
        "from captum.attr import LayerConductance, LayerActivation, LayerIntegratedGradients, \\\n",
        "IntegratedGradients, DeepLift, GradientShap, NoiseTunnel, FeatureAblation"
      ],
      "execution_count": 31,
      "outputs": []
    },
    {
      "cell_type": "markdown",
      "metadata": {
        "id": "P44mR4iVpdSS"
      },
      "source": [
        "Import dataset"
      ]
    },
    {
      "cell_type": "code",
      "metadata": {
        "id": "fMgvt2CLpeNT"
      },
      "source": [
        "boston = load_boston()\n",
        "x = boston.data\n",
        "y = boston.target"
      ],
      "execution_count": 11,
      "outputs": []
    },
    {
      "cell_type": "code",
      "metadata": {
        "colab": {
          "base_uri": "https://localhost:8080/"
        },
        "id": "0Nv8IZu3pq4T",
        "outputId": "7721d91e-50e9-4487-cf08-f5277d78ba31"
      },
      "source": [
        "print(x.shape)\n",
        "print(y.shape)"
      ],
      "execution_count": 14,
      "outputs": [
        {
          "output_type": "stream",
          "text": [
            "(506, 13)\n",
            "(506,)\n"
          ],
          "name": "stdout"
        }
      ]
    },
    {
      "cell_type": "markdown",
      "metadata": {
        "id": "f3MbERAkpv-M"
      },
      "source": [
        "Split test-train "
      ]
    },
    {
      "cell_type": "code",
      "metadata": {
        "id": "ny6KTfkSpuMW"
      },
      "source": [
        "x_train, x_test, y_train, y_test = train_test_split(x, y, test_size =0.2, random_state = 0)"
      ],
      "execution_count": 15,
      "outputs": []
    },
    {
      "cell_type": "markdown",
      "metadata": {
        "id": "woXR9XELp8Qt"
      },
      "source": [
        "Create batches of data"
      ]
    },
    {
      "cell_type": "code",
      "metadata": {
        "colab": {
          "base_uri": "https://localhost:8080/"
        },
        "id": "pPy6tpECp9eR",
        "outputId": "c5c0e4e4-3146-444a-976b-b2bff3fabffe"
      },
      "source": [
        "x_train = torch.tensor(x_train).float()\n",
        "y_train  = torch.tensor(y_train).view(-1,1).float()\n",
        "x_test = torch.tensor(x_test).float()\n",
        "y_test  = torch.tensor(y_test).view(-1,1).float()\n",
        "\n",
        "datasets = torch.utils.data.TensorDataset(x_train, y_train)"
      ],
      "execution_count": 20,
      "outputs": [
        {
          "output_type": "stream",
          "text": [
            "/usr/local/lib/python3.7/dist-packages/ipykernel_launcher.py:1: UserWarning: To copy construct from a tensor, it is recommended to use sourceTensor.clone().detach() or sourceTensor.clone().detach().requires_grad_(True), rather than torch.tensor(sourceTensor).\n",
            "  \"\"\"Entry point for launching an IPython kernel.\n",
            "/usr/local/lib/python3.7/dist-packages/ipykernel_launcher.py:2: UserWarning: To copy construct from a tensor, it is recommended to use sourceTensor.clone().detach() or sourceTensor.clone().detach().requires_grad_(True), rather than torch.tensor(sourceTensor).\n",
            "  \n",
            "/usr/local/lib/python3.7/dist-packages/ipykernel_launcher.py:3: UserWarning: To copy construct from a tensor, it is recommended to use sourceTensor.clone().detach() or sourceTensor.clone().detach().requires_grad_(True), rather than torch.tensor(sourceTensor).\n",
            "  This is separate from the ipykernel package so we can avoid doing imports until\n",
            "/usr/local/lib/python3.7/dist-packages/ipykernel_launcher.py:4: UserWarning: To copy construct from a tensor, it is recommended to use sourceTensor.clone().detach() or sourceTensor.clone().detach().requires_grad_(True), rather than torch.tensor(sourceTensor).\n",
            "  after removing the cwd from sys.path.\n"
          ],
          "name": "stderr"
        }
      ]
    },
    {
      "cell_type": "code",
      "metadata": {
        "id": "tfXIo25mqJk8"
      },
      "source": [
        "train_iter = torch.utils.data.DataLoader(datasets,\n",
        "                                         batch_size = 10,\n",
        "                                         shuffle = True)"
      ],
      "execution_count": 22,
      "outputs": []
    },
    {
      "cell_type": "code",
      "metadata": {
        "id": "O0h5eQ83qZ6k"
      },
      "source": [
        "batch_size = 50\n",
        "num_epochs = 200\n",
        "learning_rate = 0.001\n",
        "size_h1 = 100\n",
        "size_h2 = 50\n",
        "size_h3 = 10\n",
        "size_o = 4"
      ],
      "execution_count": 26,
      "outputs": []
    },
    {
      "cell_type": "markdown",
      "metadata": {
        "id": "7fCW-UnVqiGx"
      },
      "source": [
        "NN model"
      ]
    },
    {
      "cell_type": "code",
      "metadata": {
        "id": "O7DuJOBiqi3X"
      },
      "source": [
        "class BostonModel(nn.Module):\n",
        "  def __init__(self):\n",
        "    super().__init__()\n",
        "    self.lin1 = nn.Linear(13, size_h1)\n",
        "    self.relu1 = nn.ReLU()\n",
        "    self.lin2 = nn.Linear(size_h1, size_h2)\n",
        "    self.relu2 = nn.ReLU()\n",
        "    self.lin3 = nn.Linear(size_h2, size_h3)\n",
        "    self.relu3 = nn.ReLU()\n",
        "    self.lin4 = nn.Linear(size_h3, size_o)\n",
        "  def forward(self, input):\n",
        "    return self.lin4(self.relu3(self.lin3(self.relu2(self.lin2(self.relu1(self.lin1(input)))))))"
      ],
      "execution_count": 27,
      "outputs": []
    },
    {
      "cell_type": "code",
      "metadata": {
        "colab": {
          "base_uri": "https://localhost:8080/"
        },
        "id": "7wf-V778rH8S",
        "outputId": "6417eb82-eb72-4950-ac24-31bbc7a7a8c1"
      },
      "source": [
        "model = BostonModel()\n",
        "model.train()"
      ],
      "execution_count": 29,
      "outputs": [
        {
          "output_type": "execute_result",
          "data": {
            "text/plain": [
              "BostonModel(\n",
              "  (lin1): Linear(in_features=13, out_features=100, bias=True)\n",
              "  (relu1): ReLU()\n",
              "  (lin2): Linear(in_features=100, out_features=50, bias=True)\n",
              "  (relu2): ReLU()\n",
              "  (lin3): Linear(in_features=50, out_features=10, bias=True)\n",
              "  (relu3): ReLU()\n",
              "  (lin4): Linear(in_features=10, out_features=4, bias=True)\n",
              ")"
            ]
          },
          "metadata": {
            "tags": []
          },
          "execution_count": 29
        }
      ]
    },
    {
      "cell_type": "code",
      "metadata": {
        "id": "yOa-TRAgrMyj"
      },
      "source": [
        ""
      ],
      "execution_count": null,
      "outputs": []
    }
  ]
}