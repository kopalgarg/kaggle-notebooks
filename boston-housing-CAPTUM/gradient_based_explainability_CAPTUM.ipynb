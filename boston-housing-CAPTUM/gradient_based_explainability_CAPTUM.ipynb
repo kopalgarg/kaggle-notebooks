{
  "nbformat": 4,
  "nbformat_minor": 0,
  "metadata": {
    "colab": {
      "name": "Untitled6.ipynb",
      "provenance": [],
      "authorship_tag": "ABX9TyNMy1PBNNiiBvWonTTdi/+w",
      "include_colab_link": true
    },
    "kernelspec": {
      "name": "python3",
      "display_name": "Python 3"
    },
    "language_info": {
      "name": "python"
    }
  },
  "cells": [
    {
      "cell_type": "markdown",
      "metadata": {
        "id": "view-in-github",
        "colab_type": "text"
      },
      "source": [
        "<a href=\"https://colab.research.google.com/github/kopalgarg/kaggle-competitions/blob/main/boston-housing-CAPTUM/gradient_based_explainability_CAPTUM.ipynb\" target=\"_parent\"><img src=\"https://colab.research.google.com/assets/colab-badge.svg\" alt=\"Open In Colab\"/></a>"
      ]
    },
    {
      "cell_type": "code",
      "metadata": {
        "id": "EdvPqwv5nZeh"
      },
      "source": [
        "import numpy as np\n",
        "import pandas as pd\n",
        "from os import path\n",
        "import matplotlib.pyplot as plt\n",
        "import sklearn\n",
        "from sklearn.datasets import load_boston\n",
        "from sklearn.model_selection import train_test_split\n",
        "from sklearn.metrics import mean_squared_error\n",
        "import torch\n",
        "import torch.nn as nn\n",
        "import torch.optim as optim\n",
        "import torchviz\n",
        "from torchviz import make_dot\n",
        "import captum\n",
        "from captum.attr import LayerConductance, LayerActivation, LayerIntegratedGradients, \\\n",
        "IntegratedGradients, DeepLift, GradientShap, NoiseTunnel, FeatureAblation"
      ],
      "execution_count": 37,
      "outputs": []
    },
    {
      "cell_type": "markdown",
      "metadata": {
        "id": "P44mR4iVpdSS"
      },
      "source": [
        "Import dataset"
      ]
    },
    {
      "cell_type": "code",
      "metadata": {
        "id": "fMgvt2CLpeNT"
      },
      "source": [
        "boston = load_boston()\n",
        "x = boston.data\n",
        "y = boston.target"
      ],
      "execution_count": 11,
      "outputs": []
    },
    {
      "cell_type": "code",
      "metadata": {
        "colab": {
          "base_uri": "https://localhost:8080/"
        },
        "id": "0Nv8IZu3pq4T",
        "outputId": "7721d91e-50e9-4487-cf08-f5277d78ba31"
      },
      "source": [
        "print(x.shape)\n",
        "print(y.shape)"
      ],
      "execution_count": 14,
      "outputs": [
        {
          "output_type": "stream",
          "text": [
            "(506, 13)\n",
            "(506,)\n"
          ],
          "name": "stdout"
        }
      ]
    },
    {
      "cell_type": "markdown",
      "metadata": {
        "id": "f3MbERAkpv-M"
      },
      "source": [
        "Split test-train "
      ]
    },
    {
      "cell_type": "code",
      "metadata": {
        "id": "ny6KTfkSpuMW"
      },
      "source": [
        "x_train, x_test, y_train, y_test = train_test_split(x, y, test_size =0.2, random_state = 0)"
      ],
      "execution_count": 15,
      "outputs": []
    },
    {
      "cell_type": "markdown",
      "metadata": {
        "id": "woXR9XELp8Qt"
      },
      "source": [
        "Create batches of data"
      ]
    },
    {
      "cell_type": "code",
      "metadata": {
        "colab": {
          "base_uri": "https://localhost:8080/"
        },
        "id": "pPy6tpECp9eR",
        "outputId": "c5c0e4e4-3146-444a-976b-b2bff3fabffe"
      },
      "source": [
        "x_train = torch.tensor(x_train).float()\n",
        "y_train  = torch.tensor(y_train).view(-1,1).float()\n",
        "x_test = torch.tensor(x_test).float()\n",
        "y_test  = torch.tensor(y_test).view(-1,1).float()\n",
        "\n",
        "datasets = torch.utils.data.TensorDataset(x_train, y_train)"
      ],
      "execution_count": 20,
      "outputs": [
        {
          "output_type": "stream",
          "text": [
            "/usr/local/lib/python3.7/dist-packages/ipykernel_launcher.py:1: UserWarning: To copy construct from a tensor, it is recommended to use sourceTensor.clone().detach() or sourceTensor.clone().detach().requires_grad_(True), rather than torch.tensor(sourceTensor).\n",
            "  \"\"\"Entry point for launching an IPython kernel.\n",
            "/usr/local/lib/python3.7/dist-packages/ipykernel_launcher.py:2: UserWarning: To copy construct from a tensor, it is recommended to use sourceTensor.clone().detach() or sourceTensor.clone().detach().requires_grad_(True), rather than torch.tensor(sourceTensor).\n",
            "  \n",
            "/usr/local/lib/python3.7/dist-packages/ipykernel_launcher.py:3: UserWarning: To copy construct from a tensor, it is recommended to use sourceTensor.clone().detach() or sourceTensor.clone().detach().requires_grad_(True), rather than torch.tensor(sourceTensor).\n",
            "  This is separate from the ipykernel package so we can avoid doing imports until\n",
            "/usr/local/lib/python3.7/dist-packages/ipykernel_launcher.py:4: UserWarning: To copy construct from a tensor, it is recommended to use sourceTensor.clone().detach() or sourceTensor.clone().detach().requires_grad_(True), rather than torch.tensor(sourceTensor).\n",
            "  after removing the cwd from sys.path.\n"
          ],
          "name": "stderr"
        }
      ]
    },
    {
      "cell_type": "code",
      "metadata": {
        "id": "tfXIo25mqJk8"
      },
      "source": [
        "train_iter = torch.utils.data.DataLoader(datasets,\n",
        "                                         batch_size = 10,\n",
        "                                         shuffle = True)"
      ],
      "execution_count": 22,
      "outputs": []
    },
    {
      "cell_type": "code",
      "metadata": {
        "id": "O0h5eQ83qZ6k"
      },
      "source": [
        "batch_size = 50\n",
        "num_epochs = 200\n",
        "learning_rate = 0.001\n",
        "size_h1 = 100\n",
        "size_h2 = 50\n",
        "size_h3 = 10\n",
        "size_h4 = 1"
      ],
      "execution_count": 63,
      "outputs": []
    },
    {
      "cell_type": "markdown",
      "metadata": {
        "id": "7fCW-UnVqiGx"
      },
      "source": [
        "NN model"
      ]
    },
    {
      "cell_type": "code",
      "metadata": {
        "id": "O7DuJOBiqi3X"
      },
      "source": [
        "class BostonModel(nn.Module):\n",
        "    def __init__(self):\n",
        "        super().__init__()\n",
        "        self.lin1 = nn.Linear(13, size_h1)\n",
        "        self.relu1 = nn.ReLU()\n",
        "        self.lin2 = nn.Linear(size_h1, size_h2)\n",
        "        self.relu2 = nn.ReLU()\n",
        "        self.lin3 = nn.Linear(size_h2, size_h3)\n",
        "        self.relu3 = nn.ReLU()\n",
        "        self.lin4 = nn.Linear(size_h3, size_h4)\n",
        "    def forward(self, input):\n",
        "        return self.lin4(self.relu3(self.lin3(self.relu2(self.lin2(self.relu1(self.lin1(input)))))))"
      ],
      "execution_count": 64,
      "outputs": []
    },
    {
      "cell_type": "code",
      "metadata": {
        "colab": {
          "base_uri": "https://localhost:8080/"
        },
        "id": "7wf-V778rH8S",
        "outputId": "eb7eed28-16d2-4730-ccb6-92581aa9cbdd"
      },
      "source": [
        "model = BostonModel()\n",
        "model.train()"
      ],
      "execution_count": 65,
      "outputs": [
        {
          "output_type": "execute_result",
          "data": {
            "text/plain": [
              "BostonModel(\n",
              "  (lin1): Linear(in_features=13, out_features=100, bias=True)\n",
              "  (relu1): ReLU()\n",
              "  (lin2): Linear(in_features=100, out_features=50, bias=True)\n",
              "  (relu2): ReLU()\n",
              "  (lin3): Linear(in_features=50, out_features=10, bias=True)\n",
              "  (relu3): ReLU()\n",
              "  (lin4): Linear(in_features=10, out_features=1, bias=True)\n",
              ")"
            ]
          },
          "metadata": {
            "tags": []
          },
          "execution_count": 65
        }
      ]
    },
    {
      "cell_type": "code",
      "metadata": {
        "colab": {
          "base_uri": "https://localhost:8080/",
          "height": 934
        },
        "id": "yOa-TRAgrMyj",
        "outputId": "69eb0c3e-ad9a-4133-dc50-2e83f9dffb39"
      },
      "source": [
        "dummy_in = torch.zeros([1,13])\n",
        "dummy_out = model(dummy_in)\n",
        "make_dot(dummy_out)"
      ],
      "execution_count": 66,
      "outputs": [
        {
          "output_type": "execute_result",
          "data": {
            "text/plain": [
              "<graphviz.dot.Digraph at 0x7f8ba630ee50>"
            ],
            "image/svg+xml": "<?xml version=\"1.0\" encoding=\"UTF-8\" standalone=\"no\"?>\n<!DOCTYPE svg PUBLIC \"-//W3C//DTD SVG 1.1//EN\"\n \"http://www.w3.org/Graphics/SVG/1.1/DTD/svg11.dtd\">\n<!-- Generated by graphviz version 2.40.1 (20161225.0304)\n -->\n<!-- Title: %3 Pages: 1 -->\n<svg width=\"439pt\" height=\"685pt\"\n viewBox=\"0.00 0.00 439.00 685.00\" xmlns=\"http://www.w3.org/2000/svg\" xmlns:xlink=\"http://www.w3.org/1999/xlink\">\n<g id=\"graph0\" class=\"graph\" transform=\"scale(1 1) rotate(0) translate(4 681)\">\n<title>%3</title>\n<polygon fill=\"#ffffff\" stroke=\"transparent\" points=\"-4,4 -4,-681 435,-681 435,4 -4,4\"/>\n<!-- 140237763083952 -->\n<g id=\"node1\" class=\"node\">\n<title>140237763083952</title>\n<polygon fill=\"#caff70\" stroke=\"#000000\" points=\"280,-31 221,-31 221,0 280,0 280,-31\"/>\n<text text-anchor=\"middle\" x=\"250.5\" y=\"-7\" font-family=\"monospace\" font-size=\"10.00\" fill=\"#000000\"> (1, 1)</text>\n</g>\n<!-- 140237765404496 -->\n<g id=\"node2\" class=\"node\">\n<title>140237765404496</title>\n<polygon fill=\"#d3d3d3\" stroke=\"#000000\" points=\"298,-86 203,-86 203,-67 298,-67 298,-86\"/>\n<text text-anchor=\"middle\" x=\"250.5\" y=\"-74\" font-family=\"monospace\" font-size=\"10.00\" fill=\"#000000\">AddmmBackward</text>\n</g>\n<!-- 140237765404496&#45;&gt;140237763083952 -->\n<g id=\"edge27\" class=\"edge\">\n<title>140237765404496&#45;&gt;140237763083952</title>\n<path fill=\"none\" stroke=\"#000000\" d=\"M250.5,-66.9688C250.5,-60.1289 250.5,-50.5621 250.5,-41.5298\"/>\n<polygon fill=\"#000000\" stroke=\"#000000\" points=\"254.0001,-41.3678 250.5,-31.3678 247.0001,-41.3678 254.0001,-41.3678\"/>\n</g>\n<!-- 140237765402960 -->\n<g id=\"node3\" class=\"node\">\n<title>140237765402960</title>\n<polygon fill=\"#d3d3d3\" stroke=\"#000000\" points=\"185,-141 84,-141 84,-122 185,-122 185,-141\"/>\n<text text-anchor=\"middle\" x=\"134.5\" y=\"-129\" font-family=\"monospace\" font-size=\"10.00\" fill=\"#000000\">AccumulateGrad</text>\n</g>\n<!-- 140237765402960&#45;&gt;140237765404496 -->\n<g id=\"edge1\" class=\"edge\">\n<title>140237765402960&#45;&gt;140237765404496</title>\n<path fill=\"none\" stroke=\"#000000\" d=\"M154.7057,-121.9197C172.9737,-113.2581 200.1018,-100.3957 220.8304,-90.5675\"/>\n<polygon fill=\"#000000\" stroke=\"#000000\" points=\"222.6004,-93.6018 230.1367,-86.155 219.6014,-87.2768 222.6004,-93.6018\"/>\n</g>\n<!-- 140237763581264 -->\n<g id=\"node4\" class=\"node\">\n<title>140237763581264</title>\n<polygon fill=\"#add8e6\" stroke=\"#000000\" points=\"161.5,-208 107.5,-208 107.5,-177 161.5,-177 161.5,-208\"/>\n<text text-anchor=\"middle\" x=\"134.5\" y=\"-184\" font-family=\"monospace\" font-size=\"10.00\" fill=\"#000000\"> (1)</text>\n</g>\n<!-- 140237763581264&#45;&gt;140237765402960 -->\n<g id=\"edge2\" class=\"edge\">\n<title>140237763581264&#45;&gt;140237765402960</title>\n<path fill=\"none\" stroke=\"#000000\" d=\"M134.5,-176.791C134.5,-169.0249 134.5,-159.5706 134.5,-151.3129\"/>\n<polygon fill=\"#000000\" stroke=\"#000000\" points=\"138.0001,-151.0647 134.5,-141.0648 131.0001,-151.0648 138.0001,-151.0647\"/>\n</g>\n<!-- 140237763944208 -->\n<g id=\"node5\" class=\"node\">\n<title>140237763944208</title>\n<polygon fill=\"#d3d3d3\" stroke=\"#000000\" points=\"298,-141 203,-141 203,-122 298,-122 298,-141\"/>\n<text text-anchor=\"middle\" x=\"250.5\" y=\"-129\" font-family=\"monospace\" font-size=\"10.00\" fill=\"#000000\">ReluBackward0</text>\n</g>\n<!-- 140237763944208&#45;&gt;140237765404496 -->\n<g id=\"edge3\" class=\"edge\">\n<title>140237763944208&#45;&gt;140237765404496</title>\n<path fill=\"none\" stroke=\"#000000\" d=\"M250.5,-121.9197C250.5,-114.9083 250.5,-105.1442 250.5,-96.4652\"/>\n<polygon fill=\"#000000\" stroke=\"#000000\" points=\"254.0001,-96.3408 250.5,-86.3408 247.0001,-96.3409 254.0001,-96.3408\"/>\n</g>\n<!-- 140237763941840 -->\n<g id=\"node6\" class=\"node\">\n<title>140237763941840</title>\n<polygon fill=\"#d3d3d3\" stroke=\"#000000\" points=\"293,-202 198,-202 198,-183 293,-183 293,-202\"/>\n<text text-anchor=\"middle\" x=\"245.5\" y=\"-190\" font-family=\"monospace\" font-size=\"10.00\" fill=\"#000000\">AddmmBackward</text>\n</g>\n<!-- 140237763941840&#45;&gt;140237763944208 -->\n<g id=\"edge4\" class=\"edge\">\n<title>140237763941840&#45;&gt;140237763944208</title>\n<path fill=\"none\" stroke=\"#000000\" d=\"M246.2813,-182.9688C246.9743,-174.5131 248.009,-161.8901 248.8802,-151.2615\"/>\n<polygon fill=\"#000000\" stroke=\"#000000\" points=\"252.379,-151.4182 249.7077,-141.1656 245.4024,-150.8462 252.379,-151.4182\"/>\n</g>\n<!-- 140237763943504 -->\n<g id=\"node7\" class=\"node\">\n<title>140237763943504</title>\n<polygon fill=\"#d3d3d3\" stroke=\"#000000\" points=\"146,-269 45,-269 45,-250 146,-250 146,-269\"/>\n<text text-anchor=\"middle\" x=\"95.5\" y=\"-257\" font-family=\"monospace\" font-size=\"10.00\" fill=\"#000000\">AccumulateGrad</text>\n</g>\n<!-- 140237763943504&#45;&gt;140237763941840 -->\n<g id=\"edge5\" class=\"edge\">\n<title>140237763943504&#45;&gt;140237763941840</title>\n<path fill=\"none\" stroke=\"#000000\" d=\"M116.9913,-249.9005C142.6103,-238.4574 185.6099,-219.2509 214.7447,-206.2374\"/>\n<polygon fill=\"#000000\" stroke=\"#000000\" points=\"216.3454,-209.3557 224.0485,-202.0817 213.4905,-202.9643 216.3454,-209.3557\"/>\n</g>\n<!-- 140237763580784 -->\n<g id=\"node8\" class=\"node\">\n<title>140237763580784</title>\n<polygon fill=\"#add8e6\" stroke=\"#000000\" points=\"122.5,-342 68.5,-342 68.5,-311 122.5,-311 122.5,-342\"/>\n<text text-anchor=\"middle\" x=\"95.5\" y=\"-318\" font-family=\"monospace\" font-size=\"10.00\" fill=\"#000000\"> (10)</text>\n</g>\n<!-- 140237763580784&#45;&gt;140237763943504 -->\n<g id=\"edge6\" class=\"edge\">\n<title>140237763580784&#45;&gt;140237763943504</title>\n<path fill=\"none\" stroke=\"#000000\" d=\"M95.5,-310.9604C95.5,-301.6356 95.5,-289.6748 95.5,-279.6317\"/>\n<polygon fill=\"#000000\" stroke=\"#000000\" points=\"99.0001,-279.35 95.5,-269.3501 92.0001,-279.3501 99.0001,-279.35\"/>\n</g>\n<!-- 140237763942800 -->\n<g id=\"node9\" class=\"node\">\n<title>140237763942800</title>\n<polygon fill=\"#d3d3d3\" stroke=\"#000000\" points=\"259,-269 164,-269 164,-250 259,-250 259,-269\"/>\n<text text-anchor=\"middle\" x=\"211.5\" y=\"-257\" font-family=\"monospace\" font-size=\"10.00\" fill=\"#000000\">ReluBackward0</text>\n</g>\n<!-- 140237763942800&#45;&gt;140237763941840 -->\n<g id=\"edge7\" class=\"edge\">\n<title>140237763942800&#45;&gt;140237763941840</title>\n<path fill=\"none\" stroke=\"#000000\" d=\"M216.3714,-249.9005C221.4714,-239.8505 229.6102,-223.8122 235.99,-211.2403\"/>\n<polygon fill=\"#000000\" stroke=\"#000000\" points=\"239.2334,-212.583 240.6377,-202.0817 232.9912,-209.4153 239.2334,-212.583\"/>\n</g>\n<!-- 140237763943696 -->\n<g id=\"node10\" class=\"node\">\n<title>140237763943696</title>\n<polygon fill=\"#d3d3d3\" stroke=\"#000000\" points=\"249,-336 154,-336 154,-317 249,-317 249,-336\"/>\n<text text-anchor=\"middle\" x=\"201.5\" y=\"-324\" font-family=\"monospace\" font-size=\"10.00\" fill=\"#000000\">AddmmBackward</text>\n</g>\n<!-- 140237763943696&#45;&gt;140237763942800 -->\n<g id=\"edge8\" class=\"edge\">\n<title>140237763943696&#45;&gt;140237763942800</title>\n<path fill=\"none\" stroke=\"#000000\" d=\"M202.9328,-316.9005C204.4031,-307.0495 206.7321,-291.4451 208.5909,-278.9912\"/>\n<polygon fill=\"#000000\" stroke=\"#000000\" points=\"212.0553,-279.4888 210.0699,-269.0817 205.132,-278.4554 212.0553,-279.4888\"/>\n</g>\n<!-- 140237763943184 -->\n<g id=\"node11\" class=\"node\">\n<title>140237763943184</title>\n<polygon fill=\"#d3d3d3\" stroke=\"#000000\" points=\"101,-403 0,-403 0,-384 101,-384 101,-403\"/>\n<text text-anchor=\"middle\" x=\"50.5\" y=\"-391\" font-family=\"monospace\" font-size=\"10.00\" fill=\"#000000\">AccumulateGrad</text>\n</g>\n<!-- 140237763943184&#45;&gt;140237763943696 -->\n<g id=\"edge9\" class=\"edge\">\n<title>140237763943184&#45;&gt;140237763943696</title>\n<path fill=\"none\" stroke=\"#000000\" d=\"M72.1346,-383.9005C97.9243,-372.4574 141.2106,-353.2509 170.5397,-340.2374\"/>\n<polygon fill=\"#000000\" stroke=\"#000000\" points=\"172.1844,-343.3367 179.9055,-336.0817 169.3454,-336.9383 172.1844,-343.3367\"/>\n</g>\n<!-- 140237763581744 -->\n<g id=\"node12\" class=\"node\">\n<title>140237763581744</title>\n<polygon fill=\"#add8e6\" stroke=\"#000000\" points=\"77.5,-476 23.5,-476 23.5,-445 77.5,-445 77.5,-476\"/>\n<text text-anchor=\"middle\" x=\"50.5\" y=\"-452\" font-family=\"monospace\" font-size=\"10.00\" fill=\"#000000\"> (50)</text>\n</g>\n<!-- 140237763581744&#45;&gt;140237763943184 -->\n<g id=\"edge10\" class=\"edge\">\n<title>140237763581744&#45;&gt;140237763943184</title>\n<path fill=\"none\" stroke=\"#000000\" d=\"M50.5,-444.9604C50.5,-435.6356 50.5,-423.6748 50.5,-413.6317\"/>\n<polygon fill=\"#000000\" stroke=\"#000000\" points=\"54.0001,-413.35 50.5,-403.3501 47.0001,-413.3501 54.0001,-413.35\"/>\n</g>\n<!-- 140237763940944 -->\n<g id=\"node13\" class=\"node\">\n<title>140237763940944</title>\n<polygon fill=\"#d3d3d3\" stroke=\"#000000\" points=\"214,-403 119,-403 119,-384 214,-384 214,-403\"/>\n<text text-anchor=\"middle\" x=\"166.5\" y=\"-391\" font-family=\"monospace\" font-size=\"10.00\" fill=\"#000000\">ReluBackward0</text>\n</g>\n<!-- 140237763940944&#45;&gt;140237763943696 -->\n<g id=\"edge11\" class=\"edge\">\n<title>140237763940944&#45;&gt;140237763943696</title>\n<path fill=\"none\" stroke=\"#000000\" d=\"M171.5146,-383.9005C176.7647,-373.8505 185.1429,-357.8122 191.7103,-345.2403\"/>\n<polygon fill=\"#000000\" stroke=\"#000000\" points=\"194.9666,-346.5657 196.4947,-336.0817 188.7622,-343.3246 194.9666,-346.5657\"/>\n</g>\n<!-- 140237763943376 -->\n<g id=\"node14\" class=\"node\">\n<title>140237763943376</title>\n<polygon fill=\"#d3d3d3\" stroke=\"#000000\" points=\"206,-470 111,-470 111,-451 206,-451 206,-470\"/>\n<text text-anchor=\"middle\" x=\"158.5\" y=\"-458\" font-family=\"monospace\" font-size=\"10.00\" fill=\"#000000\">AddmmBackward</text>\n</g>\n<!-- 140237763943376&#45;&gt;140237763940944 -->\n<g id=\"edge12\" class=\"edge\">\n<title>140237763943376&#45;&gt;140237763940944</title>\n<path fill=\"none\" stroke=\"#000000\" d=\"M159.6462,-450.9005C160.8106,-441.149 162.6481,-425.7597 164.1275,-413.3695\"/>\n<polygon fill=\"#000000\" stroke=\"#000000\" points=\"167.6455,-413.4261 165.3559,-403.0817 160.6949,-412.5961 167.6455,-413.4261\"/>\n</g>\n<!-- 140237763943248 -->\n<g id=\"node15\" class=\"node\">\n<title>140237763943248</title>\n<polygon fill=\"#d3d3d3\" stroke=\"#000000\" points=\"117,-537 16,-537 16,-518 117,-518 117,-537\"/>\n<text text-anchor=\"middle\" x=\"66.5\" y=\"-525\" font-family=\"monospace\" font-size=\"10.00\" fill=\"#000000\">AccumulateGrad</text>\n</g>\n<!-- 140237763943248&#45;&gt;140237763943376 -->\n<g id=\"edge13\" class=\"edge\">\n<title>140237763943248&#45;&gt;140237763943376</title>\n<path fill=\"none\" stroke=\"#000000\" d=\"M79.6814,-517.9005C94.7111,-506.9549 119.4942,-488.9064 137.2593,-475.9688\"/>\n<polygon fill=\"#000000\" stroke=\"#000000\" points=\"139.32,-478.7979 145.3431,-470.0817 135.1991,-473.1394 139.32,-478.7979\"/>\n</g>\n<!-- 140237763580944 -->\n<g id=\"node16\" class=\"node\">\n<title>140237763580944</title>\n<polygon fill=\"#add8e6\" stroke=\"#000000\" points=\"93.5,-610 39.5,-610 39.5,-579 93.5,-579 93.5,-610\"/>\n<text text-anchor=\"middle\" x=\"66.5\" y=\"-586\" font-family=\"monospace\" font-size=\"10.00\" fill=\"#000000\"> (100)</text>\n</g>\n<!-- 140237763580944&#45;&gt;140237763943248 -->\n<g id=\"edge14\" class=\"edge\">\n<title>140237763580944&#45;&gt;140237763943248</title>\n<path fill=\"none\" stroke=\"#000000\" d=\"M66.5,-578.9604C66.5,-569.6356 66.5,-557.6748 66.5,-547.6317\"/>\n<polygon fill=\"#000000\" stroke=\"#000000\" points=\"70.0001,-547.35 66.5,-537.3501 63.0001,-547.3501 70.0001,-547.35\"/>\n</g>\n<!-- 140237763942928 -->\n<g id=\"node17\" class=\"node\">\n<title>140237763942928</title>\n<polygon fill=\"#d3d3d3\" stroke=\"#000000\" points=\"206,-537 135,-537 135,-518 206,-518 206,-537\"/>\n<text text-anchor=\"middle\" x=\"170.5\" y=\"-525\" font-family=\"monospace\" font-size=\"10.00\" fill=\"#000000\">TBackward</text>\n</g>\n<!-- 140237763942928&#45;&gt;140237763943376 -->\n<g id=\"edge15\" class=\"edge\">\n<title>140237763942928&#45;&gt;140237763943376</title>\n<path fill=\"none\" stroke=\"#000000\" d=\"M168.7807,-517.9005C167.0163,-508.0495 164.2215,-492.4451 161.991,-479.9912\"/>\n<polygon fill=\"#000000\" stroke=\"#000000\" points=\"165.4244,-479.308 160.2161,-470.0817 158.534,-480.5421 165.4244,-479.308\"/>\n</g>\n<!-- 140237763940688 -->\n<g id=\"node18\" class=\"node\">\n<title>140237763940688</title>\n<polygon fill=\"#d3d3d3\" stroke=\"#000000\" points=\"221,-604 120,-604 120,-585 221,-585 221,-604\"/>\n<text text-anchor=\"middle\" x=\"170.5\" y=\"-592\" font-family=\"monospace\" font-size=\"10.00\" fill=\"#000000\">AccumulateGrad</text>\n</g>\n<!-- 140237763940688&#45;&gt;140237763942928 -->\n<g id=\"edge16\" class=\"edge\">\n<title>140237763940688&#45;&gt;140237763942928</title>\n<path fill=\"none\" stroke=\"#000000\" d=\"M170.5,-584.9005C170.5,-575.149 170.5,-559.7597 170.5,-547.3695\"/>\n<polygon fill=\"#000000\" stroke=\"#000000\" points=\"174.0001,-547.0816 170.5,-537.0817 167.0001,-547.0817 174.0001,-547.0816\"/>\n</g>\n<!-- 140237763581344 -->\n<g id=\"node19\" class=\"node\">\n<title>140237763581344</title>\n<polygon fill=\"#add8e6\" stroke=\"#000000\" points=\"209,-677 132,-677 132,-646 209,-646 209,-677\"/>\n<text text-anchor=\"middle\" x=\"170.5\" y=\"-653\" font-family=\"monospace\" font-size=\"10.00\" fill=\"#000000\"> (100, 13)</text>\n</g>\n<!-- 140237763581344&#45;&gt;140237763940688 -->\n<g id=\"edge17\" class=\"edge\">\n<title>140237763581344&#45;&gt;140237763940688</title>\n<path fill=\"none\" stroke=\"#000000\" d=\"M170.5,-645.9604C170.5,-636.6356 170.5,-624.6748 170.5,-614.6317\"/>\n<polygon fill=\"#000000\" stroke=\"#000000\" points=\"174.0001,-614.35 170.5,-604.3501 167.0001,-614.3501 174.0001,-614.35\"/>\n</g>\n<!-- 140237763941072 -->\n<g id=\"node20\" class=\"node\">\n<title>140237763941072</title>\n<polygon fill=\"#d3d3d3\" stroke=\"#000000\" points=\"303,-403 232,-403 232,-384 303,-384 303,-403\"/>\n<text text-anchor=\"middle\" x=\"267.5\" y=\"-391\" font-family=\"monospace\" font-size=\"10.00\" fill=\"#000000\">TBackward</text>\n</g>\n<!-- 140237763941072&#45;&gt;140237763943696 -->\n<g id=\"edge18\" class=\"edge\">\n<title>140237763941072&#45;&gt;140237763943696</title>\n<path fill=\"none\" stroke=\"#000000\" d=\"M258.0438,-383.9005C247.6537,-373.353 230.7662,-356.2096 218.1476,-343.3998\"/>\n<polygon fill=\"#000000\" stroke=\"#000000\" points=\"220.4498,-340.7495 210.9386,-336.0817 215.463,-345.6619 220.4498,-340.7495\"/>\n</g>\n<!-- 140237763942352 -->\n<g id=\"node21\" class=\"node\">\n<title>140237763942352</title>\n<polygon fill=\"#d3d3d3\" stroke=\"#000000\" points=\"325,-470 224,-470 224,-451 325,-451 325,-470\"/>\n<text text-anchor=\"middle\" x=\"274.5\" y=\"-458\" font-family=\"monospace\" font-size=\"10.00\" fill=\"#000000\">AccumulateGrad</text>\n</g>\n<!-- 140237763942352&#45;&gt;140237763941072 -->\n<g id=\"edge19\" class=\"edge\">\n<title>140237763942352&#45;&gt;140237763941072</title>\n<path fill=\"none\" stroke=\"#000000\" d=\"M273.4971,-450.9005C272.4783,-441.149 270.8704,-425.7597 269.5759,-413.3695\"/>\n<polygon fill=\"#000000\" stroke=\"#000000\" points=\"273.0213,-412.6638 268.5011,-403.0817 266.0592,-413.3912 273.0213,-412.6638\"/>\n</g>\n<!-- 140237763583744 -->\n<g id=\"node22\" class=\"node\">\n<title>140237763583744</title>\n<polygon fill=\"#add8e6\" stroke=\"#000000\" points=\"313,-543 236,-543 236,-512 313,-512 313,-543\"/>\n<text text-anchor=\"middle\" x=\"274.5\" y=\"-519\" font-family=\"monospace\" font-size=\"10.00\" fill=\"#000000\"> (50, 100)</text>\n</g>\n<!-- 140237763583744&#45;&gt;140237763942352 -->\n<g id=\"edge20\" class=\"edge\">\n<title>140237763583744&#45;&gt;140237763942352</title>\n<path fill=\"none\" stroke=\"#000000\" d=\"M274.5,-511.9604C274.5,-502.6356 274.5,-490.6748 274.5,-480.6317\"/>\n<polygon fill=\"#000000\" stroke=\"#000000\" points=\"278.0001,-480.35 274.5,-470.3501 271.0001,-480.3501 278.0001,-480.35\"/>\n</g>\n<!-- 140237763942544 -->\n<g id=\"node23\" class=\"node\">\n<title>140237763942544</title>\n<polygon fill=\"#d3d3d3\" stroke=\"#000000\" points=\"348,-269 277,-269 277,-250 348,-250 348,-269\"/>\n<text text-anchor=\"middle\" x=\"312.5\" y=\"-257\" font-family=\"monospace\" font-size=\"10.00\" fill=\"#000000\">TBackward</text>\n</g>\n<!-- 140237763942544&#45;&gt;140237763941840 -->\n<g id=\"edge21\" class=\"edge\">\n<title>140237763942544&#45;&gt;140237763941840</title>\n<path fill=\"none\" stroke=\"#000000\" d=\"M302.9005,-249.9005C292.353,-239.353 275.2096,-222.2096 262.3998,-209.3998\"/>\n<polygon fill=\"#000000\" stroke=\"#000000\" points=\"264.6276,-206.6779 255.0817,-202.0817 259.6779,-211.6276 264.6276,-206.6779\"/>\n</g>\n<!-- 140237763941712 -->\n<g id=\"node24\" class=\"node\">\n<title>140237763941712</title>\n<polygon fill=\"#d3d3d3\" stroke=\"#000000\" points=\"372,-336 271,-336 271,-317 372,-317 372,-336\"/>\n<text text-anchor=\"middle\" x=\"321.5\" y=\"-324\" font-family=\"monospace\" font-size=\"10.00\" fill=\"#000000\">AccumulateGrad</text>\n</g>\n<!-- 140237763941712&#45;&gt;140237763942544 -->\n<g id=\"edge22\" class=\"edge\">\n<title>140237763941712&#45;&gt;140237763942544</title>\n<path fill=\"none\" stroke=\"#000000\" d=\"M320.2105,-316.9005C318.9006,-307.149 316.8334,-291.7597 315.169,-279.3695\"/>\n<polygon fill=\"#000000\" stroke=\"#000000\" points=\"318.5873,-278.5266 313.7871,-269.0817 311.6497,-279.4586 318.5873,-278.5266\"/>\n</g>\n<!-- 140237763580304 -->\n<g id=\"node25\" class=\"node\">\n<title>140237763580304</title>\n<polygon fill=\"#add8e6\" stroke=\"#000000\" points=\"392,-409 321,-409 321,-378 392,-378 392,-409\"/>\n<text text-anchor=\"middle\" x=\"356.5\" y=\"-385\" font-family=\"monospace\" font-size=\"10.00\" fill=\"#000000\"> (10, 50)</text>\n</g>\n<!-- 140237763580304&#45;&gt;140237763941712 -->\n<g id=\"edge23\" class=\"edge\">\n<title>140237763580304&#45;&gt;140237763941712</title>\n<path fill=\"none\" stroke=\"#000000\" d=\"M348.3823,-377.9604C343.3016,-368.2345 336.723,-355.6411 331.3453,-345.3468\"/>\n<polygon fill=\"#000000\" stroke=\"#000000\" points=\"334.378,-343.593 326.6456,-336.3501 328.1736,-346.8342 334.378,-343.593\"/>\n</g>\n<!-- 140237763943120 -->\n<g id=\"node26\" class=\"node\">\n<title>140237763943120</title>\n<polygon fill=\"#d3d3d3\" stroke=\"#000000\" points=\"396,-141 325,-141 325,-122 396,-122 396,-141\"/>\n<text text-anchor=\"middle\" x=\"360.5\" y=\"-129\" font-family=\"monospace\" font-size=\"10.00\" fill=\"#000000\">TBackward</text>\n</g>\n<!-- 140237763943120&#45;&gt;140237765404496 -->\n<g id=\"edge24\" class=\"edge\">\n<title>140237763943120&#45;&gt;140237765404496</title>\n<path fill=\"none\" stroke=\"#000000\" d=\"M341.3395,-121.9197C324.0947,-113.2973 298.524,-100.512 278.9022,-90.7011\"/>\n<polygon fill=\"#000000\" stroke=\"#000000\" points=\"280.3196,-87.4967 269.81,-86.155 277.1891,-93.7577 280.3196,-87.4967\"/>\n</g>\n<!-- 140237763942032 -->\n<g id=\"node27\" class=\"node\">\n<title>140237763942032</title>\n<polygon fill=\"#d3d3d3\" stroke=\"#000000\" points=\"416,-202 315,-202 315,-183 416,-183 416,-202\"/>\n<text text-anchor=\"middle\" x=\"365.5\" y=\"-190\" font-family=\"monospace\" font-size=\"10.00\" fill=\"#000000\">AccumulateGrad</text>\n</g>\n<!-- 140237763942032&#45;&gt;140237763943120 -->\n<g id=\"edge25\" class=\"edge\">\n<title>140237763942032&#45;&gt;140237763943120</title>\n<path fill=\"none\" stroke=\"#000000\" d=\"M364.7188,-182.9688C364.0257,-174.5131 362.991,-161.8901 362.1198,-151.2615\"/>\n<polygon fill=\"#000000\" stroke=\"#000000\" points=\"365.5976,-150.8462 361.2923,-141.1656 358.621,-151.4182 365.5976,-150.8462\"/>\n</g>\n<!-- 140237763580704 -->\n<g id=\"node28\" class=\"node\">\n<title>140237763580704</title>\n<polygon fill=\"#add8e6\" stroke=\"#000000\" points=\"431,-275 366,-275 366,-244 431,-244 431,-275\"/>\n<text text-anchor=\"middle\" x=\"398.5\" y=\"-251\" font-family=\"monospace\" font-size=\"10.00\" fill=\"#000000\"> (1, 10)</text>\n</g>\n<!-- 140237763580704&#45;&gt;140237763942032 -->\n<g id=\"edge26\" class=\"edge\">\n<title>140237763580704&#45;&gt;140237763942032</title>\n<path fill=\"none\" stroke=\"#000000\" d=\"M390.8462,-243.9604C386.0558,-234.2345 379.8531,-221.6411 374.7827,-211.3468\"/>\n<polygon fill=\"#000000\" stroke=\"#000000\" points=\"377.9099,-209.7745 370.3515,-202.3501 371.6303,-212.8675 377.9099,-209.7745\"/>\n</g>\n</g>\n</svg>\n"
          },
          "metadata": {
            "tags": []
          },
          "execution_count": 66
        }
      ]
    },
    {
      "cell_type": "markdown",
      "metadata": {
        "id": "W1Ylk8qIuYOT"
      },
      "source": [
        "Train model"
      ]
    },
    {
      "cell_type": "code",
      "metadata": {
        "id": "__6FTTr2uZkZ"
      },
      "source": [
        "loss_function = nn.MSELoss(reduction = 'sum')\n",
        "\n",
        "def train(model, num_epochs = num_epochs):\n",
        "  optimizer = optim.RMSprop(model.parameters(), lr = learning_rate)\n",
        "  for epoch in range(num_epochs):\n",
        "    run_loss  = 0\n",
        "    for inputs, labels in train_iter:\n",
        "      outputs = model(inputs)\n",
        "      loss = loss_function(outputs, labels)\n",
        "      optimizer.zero_grad()\n",
        "      loss.backward()\n",
        "      run_loss+=loss.item()\n",
        "      optimizer.step()\n",
        "    if epoch %20 == 0:\n",
        "      print(f'Epoch {epoch+1}/{num_epochs} running accumulative loss {run_loss:.3f}')\n",
        "\n"
      ],
      "execution_count": 67,
      "outputs": []
    },
    {
      "cell_type": "code",
      "metadata": {
        "id": "hLYL6pMhvAmM"
      },
      "source": [
        "def train_load_save_model(model_obj, model_path):\n",
        "    if path.isfile(model_path):\n",
        "        print(\"Loading pretrain model  from {}\".format(model_path))\n",
        "        model_obj.load_state_dict(torch.load(model_path))\n",
        "    else:\n",
        "        train(model_obj)\n",
        "        print('Finished training the model. Sasving teh model to the path: {}'.format(model_path))\n",
        "        torch.save(model_obj.state_dict(), model_path)"
      ],
      "execution_count": 68,
      "outputs": []
    },
    {
      "cell_type": "code",
      "metadata": {
        "colab": {
          "base_uri": "https://localhost:8080/"
        },
        "id": "a3CSHIVyvDOd",
        "outputId": "f64515f5-ba2b-40fe-dded-4786c43dae2a"
      },
      "source": [
        "save_path = 'boston_model_2.pt'\n",
        "train_load_save_model(model, save_path)"
      ],
      "execution_count": 70,
      "outputs": [
        {
          "output_type": "stream",
          "text": [
            "Epoch 1/200 running accumulative loss 10177.156\n",
            "Epoch 21/200 running accumulative loss 3805.950\n",
            "Epoch 41/200 running accumulative loss 3998.399\n",
            "Epoch 61/200 running accumulative loss 3788.282\n",
            "Epoch 81/200 running accumulative loss 3915.924\n",
            "Epoch 101/200 running accumulative loss 3303.283\n",
            "Epoch 121/200 running accumulative loss 2944.127\n",
            "Epoch 141/200 running accumulative loss 3544.652\n",
            "Epoch 161/200 running accumulative loss 2687.107\n",
            "Epoch 181/200 running accumulative loss 2710.443\n",
            "Finished training the model. Sasving teh model to the path: boston_model_2.pt\n"
          ],
          "name": "stdout"
        }
      ]
    },
    {
      "cell_type": "markdown",
      "metadata": {
        "id": "wSFoDq4Jvcxi"
      },
      "source": [
        "Evaluate model"
      ]
    },
    {
      "cell_type": "code",
      "metadata": {
        "id": "NC1dks4Ivas3"
      },
      "source": [
        "model.eval()\n",
        "outputs = model(x_test)\n",
        "pred = outputs.detach().numpy()\n",
        "true = y_test.detach().numpy()"
      ],
      "execution_count": 71,
      "outputs": []
    },
    {
      "cell_type": "code",
      "metadata": {
        "colab": {
          "base_uri": "https://localhost:8080/"
        },
        "id": "ZlAS7owtv3KJ",
        "outputId": "b6bf5329-cc9d-476e-a1cc-0a80315f9b44"
      },
      "source": [
        "err = np.sqrt(mean_squared_error(outputs.detach().numpy(), y_test.detach().numpy()))\n",
        "err"
      ],
      "execution_count": 74,
      "outputs": [
        {
          "output_type": "execute_result",
          "data": {
            "text/plain": [
              "5.849765"
            ]
          },
          "metadata": {
            "tags": []
          },
          "execution_count": 74
        }
      ]
    },
    {
      "cell_type": "markdown",
      "metadata": {
        "id": "7DIqTdr5w2S6"
      },
      "source": [
        "Different attribution methods in the Captum library"
      ]
    },
    {
      "cell_type": "markdown",
      "metadata": {
        "id": "9Scib-VyxAyr"
      },
      "source": [
        "Gradient SHAP"
      ]
    },
    {
      "cell_type": "code",
      "metadata": {
        "id": "1ogikPnBw1zf"
      },
      "source": [
        "ig = IntegratedGradients(model)\n",
        "ig_atest = ig.attribute(x_test, n_steps =50)\n"
      ],
      "execution_count": 75,
      "outputs": []
    },
    {
      "cell_type": "markdown",
      "metadata": {
        "id": "emoO1S5YxNgT"
      },
      "source": [
        "Noise Tunnel"
      ]
    },
    {
      "cell_type": "code",
      "metadata": {
        "id": "MHHAEgTmxOsl"
      },
      "source": [
        "nt = NoiseTunnel(ig)\n",
        "nt_atest = nt.attribute(x_test)"
      ],
      "execution_count": 78,
      "outputs": []
    },
    {
      "cell_type": "markdown",
      "metadata": {
        "id": "GkZiPKGnxfzV"
      },
      "source": [
        "Deep Lift"
      ]
    },
    {
      "cell_type": "code",
      "metadata": {
        "colab": {
          "base_uri": "https://localhost:8080/"
        },
        "id": "RyHTAJt8xgrW",
        "outputId": "c1bf77f4-595c-4914-d20f-cfd15bafcf6f"
      },
      "source": [
        "dl = DeepLift(model)\n",
        "dl_atest = dl.attribute(x_test)"
      ],
      "execution_count": 80,
      "outputs": [
        {
          "output_type": "stream",
          "text": [
            "/usr/local/lib/python3.7/dist-packages/captum/_utils/gradient.py:59: UserWarning: Input Tensor 0 did not already require gradients, required_grads has been set automatically.\n",
            "  \"required_grads has been set automatically.\" % index\n",
            "/usr/local/lib/python3.7/dist-packages/captum/attr/_core/deep_lift.py:325: UserWarning: Setting forward, backward hooks and attributes on non-linear\n",
            "               activations. The hooks and attributes will be removed\n",
            "            after the attribution is finished\n",
            "  after the attribution is finished\"\"\"\n"
          ],
          "name": "stderr"
        }
      ]
    },
    {
      "cell_type": "markdown",
      "metadata": {
        "id": "vmhLz560xsj6"
      },
      "source": [
        "Gradient SHAP"
      ]
    },
    {
      "cell_type": "code",
      "metadata": {
        "id": "xrf8a_gJxt2i"
      },
      "source": [
        "gs = GradientShap(model)\n",
        "gs_atest = gs.attribute(x_test, x_train)"
      ],
      "execution_count": 81,
      "outputs": []
    },
    {
      "cell_type": "markdown",
      "metadata": {
        "id": "oQhlYEFbxy51"
      },
      "source": [
        "Feature ablation"
      ]
    },
    {
      "cell_type": "code",
      "metadata": {
        "id": "URyngXtyx0fx"
      },
      "source": [
        "fa = FeatureAblation(model)\n",
        "fa_atest = fa.attribute(x_test)"
      ],
      "execution_count": 82,
      "outputs": []
    },
    {
      "cell_type": "markdown",
      "metadata": {
        "id": "pVrol69MymlI"
      },
      "source": [
        "Comparison"
      ]
    },
    {
      "cell_type": "code",
      "metadata": {
        "id": "TMwg0O9TyoKD"
      },
      "source": [
        "x_axis_data = np.arange(x_test.shape[1])\n",
        "x_axis_data_labels = list(map(lambda idx: boston.feature_names[idx], x_axis_data))\n",
        "\n",
        "ig_attr_test_sum = ig_atest.detach().numpy().sum(0)\n",
        "ig_attr_test_norm_sum = ig_attr_test_sum / np.linalg.norm(ig_attr_test_sum, ord=1)\n",
        "\n",
        "ig_nt_attr_test_sum = nt_atest.detach().numpy().sum(0)\n",
        "ig_nt_attr_test_norm_sum = ig_nt_attr_test_sum / np.linalg.norm(ig_nt_attr_test_sum, ord=1)\n",
        "\n",
        "dl_attr_test_sum = dl_atest.detach().numpy().sum(0)\n",
        "dl_attr_test_norm_sum = dl_attr_test_sum / np.linalg.norm(dl_attr_test_sum, ord=1)\n",
        "\n",
        "gs_attr_test_sum = gs_atest.detach().numpy().sum(0)\n",
        "gs_attr_test_norm_sum = gs_attr_test_sum / np.linalg.norm(gs_attr_test_sum, ord=1)\n",
        "\n",
        "fa_attr_test_sum = fa_atest.detach().numpy().sum(0)\n",
        "fa_attr_test_norm_sum = fa_attr_test_sum / np.linalg.norm(fa_attr_test_sum, ord=1)\n",
        "\n",
        "lin_weight = model.lin1.weight.detach().numpy().sum(0)\n",
        "y_axis_lin_weight = lin_weight / np.linalg.norm(lin_weight, ord=1)"
      ],
      "execution_count": 92,
      "outputs": []
    },
    {
      "cell_type": "code",
      "metadata": {
        "colab": {
          "base_uri": "https://localhost:8080/",
          "height": 484
        },
        "id": "HtliaHJsy6ug",
        "outputId": "876a1baf-e2a8-4162-a99d-c96599ea1f98"
      },
      "source": [
        "width = 0.14\n",
        "legends = ['Int Grads', 'Int Grads w/SmoothGrad','DeepLift', 'GradientSHAP', 'Feature Ablation', 'Weights']\n",
        "\n",
        "plt.figure(figsize=(20, 10))\n",
        "\n",
        "ax = plt.subplot()\n",
        "ax.set_title('Comparing input feature importances across multiple algorithms and learned weights')\n",
        "ax.set_ylabel('Attributions')\n",
        "\n",
        "FONT_SIZE = 16\n",
        "plt.rc('font', size=FONT_SIZE)            # fontsize of the text sizes\n",
        "plt.rc('axes', titlesize=FONT_SIZE)       # fontsize of the axes title\n",
        "plt.rc('axes', labelsize=FONT_SIZE)       # fontsize of the x and y labels\n",
        "plt.rc('legend', fontsize=FONT_SIZE - 4)  # fontsize of the legend\n",
        "\n",
        "ax.bar(x_axis_data, ig_attr_test_norm_sum, width, align='center', alpha=0.8, color='#eb5e7c')\n",
        "ax.bar(x_axis_data + width, ig_nt_attr_test_norm_sum, width, align='center', alpha=0.7, color='#A90000')\n",
        "ax.bar(x_axis_data + 2 * width, dl_attr_test_norm_sum, width, align='center', alpha=0.6, color='#34b8e0')\n",
        "ax.bar(x_axis_data + 3 * width, gs_attr_test_norm_sum, width, align='center',  alpha=0.8, color='#4260f5')\n",
        "ax.bar(x_axis_data + 4 * width, fa_attr_test_norm_sum, width, align='center', alpha=1.0, color='#49ba81')\n",
        "ax.bar(x_axis_data + 5 * width, y_axis_lin_weight, width, align='center', alpha=1.0, color='grey')\n",
        "ax.autoscale_view()\n",
        "plt.tight_layout()\n",
        "\n",
        "ax.set_xticks(x_axis_data + 0.5)\n",
        "ax.set_xticklabels(x_axis_data_labels)\n",
        "\n",
        "plt.legend(legends, loc=3)\n",
        "plt.show()"
      ],
      "execution_count": 93,
      "outputs": [
        {
          "output_type": "display_data",
          "data": {
            "image/png": "[encoded data removed]",
            "text/plain": [
              "<Figure size 1440x720 with 1 Axes>"
            ]
          },
          "metadata": {
            "tags": [],
            "needs_background": "light"
          }
        }
      ]
    }
  ]
}